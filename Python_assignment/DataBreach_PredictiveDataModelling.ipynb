{
 "cells": [
  {
   "cell_type": "markdown",
   "metadata": {
    "heading_collapsed": true
   },
   "source": [
    "### Just Visiting"
   ]
  },
  {
   "cell_type": "code",
   "execution_count": 45,
   "metadata": {
    "ExecuteTime": {
     "end_time": "2020-09-16T08:31:45.548419Z",
     "start_time": "2020-09-16T08:31:40.780227Z"
    },
    "hidden": true
   },
   "outputs": [],
   "source": [
    "import pandas as pd\n",
    "import numpy as np\n",
    "import matplotlib.pyplot as plt"
   ]
  },
  {
   "cell_type": "code",
   "execution_count": 2,
   "metadata": {
    "ExecuteTime": {
     "end_time": "2020-09-16T01:59:19.866088Z",
     "start_time": "2020-09-16T01:59:19.425697Z"
    },
    "hidden": true
   },
   "outputs": [],
   "source": [
    "data = pd.read_csv(\"data_V4.csv\")"
   ]
  },
  {
   "cell_type": "code",
   "execution_count": 4,
   "metadata": {
    "ExecuteTime": {
     "end_time": "2020-09-16T02:00:06.618674Z",
     "start_time": "2020-09-16T02:00:06.540074Z"
    },
    "hidden": true
   },
   "outputs": [],
   "source": [
    "data.drop(\"Unnamed: 0\", axis =1, inplace = True)"
   ]
  },
  {
   "cell_type": "code",
   "execution_count": 5,
   "metadata": {
    "ExecuteTime": {
     "end_time": "2020-09-16T02:00:09.052163Z",
     "start_time": "2020-09-16T02:00:09.029225Z"
    },
    "hidden": true
   },
   "outputs": [
    {
     "data": {
      "text/html": [
       "<div>\n",
       "<style scoped>\n",
       "    .dataframe tbody tr th:only-of-type {\n",
       "        vertical-align: middle;\n",
       "    }\n",
       "\n",
       "    .dataframe tbody tr th {\n",
       "        vertical-align: top;\n",
       "    }\n",
       "\n",
       "    .dataframe thead th {\n",
       "        text-align: right;\n",
       "    }\n",
       "</style>\n",
       "<table border=\"1\" class=\"dataframe\">\n",
       "  <thead>\n",
       "    <tr style=\"text-align: right;\">\n",
       "      <th></th>\n",
       "      <th>Name of Covered Entity</th>\n",
       "      <th>State</th>\n",
       "      <th>Covered Entity Type</th>\n",
       "      <th>Breach Submission Date</th>\n",
       "      <th>Type of Breach</th>\n",
       "      <th>Location of Breached Information</th>\n",
       "      <th>Business Associate Present</th>\n",
       "      <th>Web Description</th>\n",
       "      <th>2009</th>\n",
       "      <th>2010</th>\n",
       "      <th>2011</th>\n",
       "      <th>2012</th>\n",
       "      <th>2013</th>\n",
       "      <th>2014</th>\n",
       "      <th>2015</th>\n",
       "      <th>2016</th>\n",
       "      <th>Individuals_Affected</th>\n",
       "      <th>YEAR</th>\n",
       "    </tr>\n",
       "  </thead>\n",
       "  <tbody>\n",
       "    <tr>\n",
       "      <th>0</th>\n",
       "      <td>Advantage Consolidated LLC</td>\n",
       "      <td>OR</td>\n",
       "      <td>Healthcare Provider</td>\n",
       "      <td>2015-03-18</td>\n",
       "      <td>Hacking/IT Incident</td>\n",
       "      <td>Other</td>\n",
       "      <td>No</td>\n",
       "      <td>NaN</td>\n",
       "      <td>0.0</td>\n",
       "      <td>0.0</td>\n",
       "      <td>0.0</td>\n",
       "      <td>0.0</td>\n",
       "      <td>0.0</td>\n",
       "      <td>0.0</td>\n",
       "      <td>1.0</td>\n",
       "      <td>0.0</td>\n",
       "      <td>151626</td>\n",
       "      <td>2015</td>\n",
       "    </tr>\n",
       "    <tr>\n",
       "      <th>1</th>\n",
       "      <td>Doctors First Choice Billings, Inc.</td>\n",
       "      <td>FL</td>\n",
       "      <td>Business Associate</td>\n",
       "      <td>2014-06-12</td>\n",
       "      <td>Hacking/IT Incident</td>\n",
       "      <td>Other</td>\n",
       "      <td>Yes</td>\n",
       "      <td>\\N</td>\n",
       "      <td>0.0</td>\n",
       "      <td>0.0</td>\n",
       "      <td>0.0</td>\n",
       "      <td>0.0</td>\n",
       "      <td>0.0</td>\n",
       "      <td>1.0</td>\n",
       "      <td>0.0</td>\n",
       "      <td>0.0</td>\n",
       "      <td>1831</td>\n",
       "      <td>2014</td>\n",
       "    </tr>\n",
       "    <tr>\n",
       "      <th>2</th>\n",
       "      <td>Goshen Health System, Inc.</td>\n",
       "      <td>IN</td>\n",
       "      <td>Healthcare Provider</td>\n",
       "      <td>2012-02-14</td>\n",
       "      <td>Hacking/IT Incident</td>\n",
       "      <td>Other</td>\n",
       "      <td>No</td>\n",
       "      <td>Computer servers of Goshen Health System's bus...</td>\n",
       "      <td>0.0</td>\n",
       "      <td>0.0</td>\n",
       "      <td>0.0</td>\n",
       "      <td>1.0</td>\n",
       "      <td>0.0</td>\n",
       "      <td>0.0</td>\n",
       "      <td>0.0</td>\n",
       "      <td>0.0</td>\n",
       "      <td>660</td>\n",
       "      <td>2012</td>\n",
       "    </tr>\n",
       "    <tr>\n",
       "      <th>3</th>\n",
       "      <td>Group Life Hospital and Medical Program</td>\n",
       "      <td>CT</td>\n",
       "      <td>Health Plan</td>\n",
       "      <td>2016-02-29</td>\n",
       "      <td>Hacking/IT Incident</td>\n",
       "      <td>Other</td>\n",
       "      <td>No</td>\n",
       "      <td>NaN</td>\n",
       "      <td>0.0</td>\n",
       "      <td>0.0</td>\n",
       "      <td>0.0</td>\n",
       "      <td>0.0</td>\n",
       "      <td>0.0</td>\n",
       "      <td>0.0</td>\n",
       "      <td>0.0</td>\n",
       "      <td>1.0</td>\n",
       "      <td>3000</td>\n",
       "      <td>2016</td>\n",
       "    </tr>\n",
       "    <tr>\n",
       "      <th>4</th>\n",
       "      <td>Health Incent, LLC</td>\n",
       "      <td>TN</td>\n",
       "      <td>Healthcare Provider</td>\n",
       "      <td>2016-07-11</td>\n",
       "      <td>Hacking/IT Incident</td>\n",
       "      <td>Other</td>\n",
       "      <td>No</td>\n",
       "      <td>NaN</td>\n",
       "      <td>0.0</td>\n",
       "      <td>0.0</td>\n",
       "      <td>0.0</td>\n",
       "      <td>0.0</td>\n",
       "      <td>0.0</td>\n",
       "      <td>0.0</td>\n",
       "      <td>0.0</td>\n",
       "      <td>1.0</td>\n",
       "      <td>1100</td>\n",
       "      <td>2016</td>\n",
       "    </tr>\n",
       "  </tbody>\n",
       "</table>\n",
       "</div>"
      ],
      "text/plain": [
       "                    Name of Covered Entity State  Covered Entity Type  \\\n",
       "0               Advantage Consolidated LLC    OR  Healthcare Provider   \n",
       "1      Doctors First Choice Billings, Inc.    FL   Business Associate   \n",
       "2               Goshen Health System, Inc.    IN  Healthcare Provider   \n",
       "3  Group Life Hospital and Medical Program    CT          Health Plan   \n",
       "4                       Health Incent, LLC    TN  Healthcare Provider   \n",
       "\n",
       "  Breach Submission Date       Type of Breach  \\\n",
       "0             2015-03-18  Hacking/IT Incident   \n",
       "1             2014-06-12  Hacking/IT Incident   \n",
       "2             2012-02-14  Hacking/IT Incident   \n",
       "3             2016-02-29  Hacking/IT Incident   \n",
       "4             2016-07-11  Hacking/IT Incident   \n",
       "\n",
       "  Location of Breached Information Business Associate Present  \\\n",
       "0                            Other                         No   \n",
       "1                            Other                        Yes   \n",
       "2                            Other                         No   \n",
       "3                            Other                         No   \n",
       "4                            Other                         No   \n",
       "\n",
       "                                     Web Description  2009  2010  2011  2012  \\\n",
       "0                                                NaN   0.0   0.0   0.0   0.0   \n",
       "1                                                 \\N   0.0   0.0   0.0   0.0   \n",
       "2  Computer servers of Goshen Health System's bus...   0.0   0.0   0.0   1.0   \n",
       "3                                                NaN   0.0   0.0   0.0   0.0   \n",
       "4                                                NaN   0.0   0.0   0.0   0.0   \n",
       "\n",
       "   2013  2014  2015  2016  Individuals_Affected  YEAR  \n",
       "0   0.0   0.0   1.0   0.0                151626  2015  \n",
       "1   0.0   1.0   0.0   0.0                  1831  2014  \n",
       "2   0.0   0.0   0.0   0.0                   660  2012  \n",
       "3   0.0   0.0   0.0   1.0                  3000  2016  \n",
       "4   0.0   0.0   0.0   1.0                  1100  2016  "
      ]
     },
     "execution_count": 5,
     "metadata": {},
     "output_type": "execute_result"
    }
   ],
   "source": [
    "data.head()"
   ]
  },
  {
   "cell_type": "code",
   "execution_count": 6,
   "metadata": {
    "ExecuteTime": {
     "end_time": "2020-09-16T02:00:33.655895Z",
     "start_time": "2020-09-16T02:00:33.233730Z"
    },
    "hidden": true
   },
   "outputs": [
    {
     "data": {
      "text/html": [
       "<div>\n",
       "<style scoped>\n",
       "    .dataframe tbody tr th:only-of-type {\n",
       "        vertical-align: middle;\n",
       "    }\n",
       "\n",
       "    .dataframe tbody tr th {\n",
       "        vertical-align: top;\n",
       "    }\n",
       "\n",
       "    .dataframe thead th {\n",
       "        text-align: right;\n",
       "    }\n",
       "</style>\n",
       "<table border=\"1\" class=\"dataframe\">\n",
       "  <thead>\n",
       "    <tr style=\"text-align: right;\">\n",
       "      <th></th>\n",
       "      <th>2009</th>\n",
       "      <th>2010</th>\n",
       "      <th>2011</th>\n",
       "      <th>2012</th>\n",
       "      <th>2013</th>\n",
       "      <th>2014</th>\n",
       "      <th>2015</th>\n",
       "      <th>2016</th>\n",
       "      <th>Individuals_Affected</th>\n",
       "      <th>YEAR</th>\n",
       "    </tr>\n",
       "  </thead>\n",
       "  <tbody>\n",
       "    <tr>\n",
       "      <th>count</th>\n",
       "      <td>1658.000000</td>\n",
       "      <td>1658.000000</td>\n",
       "      <td>1658.000000</td>\n",
       "      <td>1658.000000</td>\n",
       "      <td>1658.000000</td>\n",
       "      <td>1658.000000</td>\n",
       "      <td>1658.000000</td>\n",
       "      <td>1658.000000</td>\n",
       "      <td>1.658000e+03</td>\n",
       "      <td>1658.000000</td>\n",
       "    </tr>\n",
       "    <tr>\n",
       "      <th>mean</th>\n",
       "      <td>0.010856</td>\n",
       "      <td>0.118818</td>\n",
       "      <td>0.114596</td>\n",
       "      <td>0.123040</td>\n",
       "      <td>0.156212</td>\n",
       "      <td>0.170688</td>\n",
       "      <td>0.161037</td>\n",
       "      <td>0.144753</td>\n",
       "      <td>1.034313e+05</td>\n",
       "      <td>2013.174910</td>\n",
       "    </tr>\n",
       "    <tr>\n",
       "      <th>std</th>\n",
       "      <td>0.103658</td>\n",
       "      <td>0.323672</td>\n",
       "      <td>0.318630</td>\n",
       "      <td>0.328582</td>\n",
       "      <td>0.363166</td>\n",
       "      <td>0.376349</td>\n",
       "      <td>0.367676</td>\n",
       "      <td>0.351957</td>\n",
       "      <td>1.990474e+06</td>\n",
       "      <td>1.978349</td>\n",
       "    </tr>\n",
       "    <tr>\n",
       "      <th>min</th>\n",
       "      <td>0.000000</td>\n",
       "      <td>0.000000</td>\n",
       "      <td>0.000000</td>\n",
       "      <td>0.000000</td>\n",
       "      <td>0.000000</td>\n",
       "      <td>0.000000</td>\n",
       "      <td>0.000000</td>\n",
       "      <td>0.000000</td>\n",
       "      <td>5.000000e+02</td>\n",
       "      <td>2009.000000</td>\n",
       "    </tr>\n",
       "    <tr>\n",
       "      <th>25%</th>\n",
       "      <td>0.000000</td>\n",
       "      <td>0.000000</td>\n",
       "      <td>0.000000</td>\n",
       "      <td>0.000000</td>\n",
       "      <td>0.000000</td>\n",
       "      <td>0.000000</td>\n",
       "      <td>0.000000</td>\n",
       "      <td>0.000000</td>\n",
       "      <td>1.000000e+03</td>\n",
       "      <td>2012.000000</td>\n",
       "    </tr>\n",
       "    <tr>\n",
       "      <th>50%</th>\n",
       "      <td>0.000000</td>\n",
       "      <td>0.000000</td>\n",
       "      <td>0.000000</td>\n",
       "      <td>0.000000</td>\n",
       "      <td>0.000000</td>\n",
       "      <td>0.000000</td>\n",
       "      <td>0.000000</td>\n",
       "      <td>0.000000</td>\n",
       "      <td>2.345000e+03</td>\n",
       "      <td>2013.000000</td>\n",
       "    </tr>\n",
       "    <tr>\n",
       "      <th>75%</th>\n",
       "      <td>0.000000</td>\n",
       "      <td>0.000000</td>\n",
       "      <td>0.000000</td>\n",
       "      <td>0.000000</td>\n",
       "      <td>0.000000</td>\n",
       "      <td>0.000000</td>\n",
       "      <td>0.000000</td>\n",
       "      <td>0.000000</td>\n",
       "      <td>7.796000e+03</td>\n",
       "      <td>2015.000000</td>\n",
       "    </tr>\n",
       "    <tr>\n",
       "      <th>max</th>\n",
       "      <td>1.000000</td>\n",
       "      <td>1.000000</td>\n",
       "      <td>1.000000</td>\n",
       "      <td>1.000000</td>\n",
       "      <td>1.000000</td>\n",
       "      <td>1.000000</td>\n",
       "      <td>1.000000</td>\n",
       "      <td>1.000000</td>\n",
       "      <td>7.880000e+07</td>\n",
       "      <td>2016.000000</td>\n",
       "    </tr>\n",
       "  </tbody>\n",
       "</table>\n",
       "</div>"
      ],
      "text/plain": [
       "              2009         2010         2011         2012         2013  \\\n",
       "count  1658.000000  1658.000000  1658.000000  1658.000000  1658.000000   \n",
       "mean      0.010856     0.118818     0.114596     0.123040     0.156212   \n",
       "std       0.103658     0.323672     0.318630     0.328582     0.363166   \n",
       "min       0.000000     0.000000     0.000000     0.000000     0.000000   \n",
       "25%       0.000000     0.000000     0.000000     0.000000     0.000000   \n",
       "50%       0.000000     0.000000     0.000000     0.000000     0.000000   \n",
       "75%       0.000000     0.000000     0.000000     0.000000     0.000000   \n",
       "max       1.000000     1.000000     1.000000     1.000000     1.000000   \n",
       "\n",
       "              2014         2015         2016  Individuals_Affected  \\\n",
       "count  1658.000000  1658.000000  1658.000000          1.658000e+03   \n",
       "mean      0.170688     0.161037     0.144753          1.034313e+05   \n",
       "std       0.376349     0.367676     0.351957          1.990474e+06   \n",
       "min       0.000000     0.000000     0.000000          5.000000e+02   \n",
       "25%       0.000000     0.000000     0.000000          1.000000e+03   \n",
       "50%       0.000000     0.000000     0.000000          2.345000e+03   \n",
       "75%       0.000000     0.000000     0.000000          7.796000e+03   \n",
       "max       1.000000     1.000000     1.000000          7.880000e+07   \n",
       "\n",
       "              YEAR  \n",
       "count  1658.000000  \n",
       "mean   2013.174910  \n",
       "std       1.978349  \n",
       "min    2009.000000  \n",
       "25%    2012.000000  \n",
       "50%    2013.000000  \n",
       "75%    2015.000000  \n",
       "max    2016.000000  "
      ]
     },
     "execution_count": 6,
     "metadata": {},
     "output_type": "execute_result"
    }
   ],
   "source": [
    "data.describe()"
   ]
  },
  {
   "cell_type": "markdown",
   "metadata": {
    "hidden": true
   },
   "source": [
    "**PROCEDURE SUGGESTED :**\n",
    "* Covered entity type : convert to one hot encoding\n",
    "* Type of Breach : convert into one hot encodings\n",
    "* Location of Breached Information : convert to one hot encoding.\n",
    "* Individuals affected : keep as it is\n",
    "* Years : 2009 - 2016 : keepas it is."
   ]
  },
  {
   "cell_type": "markdown",
   "metadata": {
    "heading_collapsed": true
   },
   "source": [
    "### Pre EDA & Data Preparaation"
   ]
  },
  {
   "cell_type": "markdown",
   "metadata": {
    "heading_collapsed": true
   },
   "source": [
    "### For One Hot Encoding of Breach Location"
   ]
  },
  {
   "cell_type": "code",
   "execution_count": 9,
   "metadata": {
    "ExecuteTime": {
     "end_time": "2020-09-16T02:12:34.577993Z",
     "start_time": "2020-09-16T02:12:34.568972Z"
    },
    "hidden": true
   },
   "outputs": [
    {
     "data": {
      "text/plain": [
       "{'Desktop Computer',\n",
       " 'Electronic Medical Record',\n",
       " 'Email',\n",
       " 'Laptop',\n",
       " 'Network Server',\n",
       " 'Other',\n",
       " 'Other Portable Electronic Device',\n",
       " 'Paper/Films'}"
      ]
     },
     "execution_count": 9,
     "metadata": {},
     "output_type": "execute_result"
    }
   ],
   "source": [
    "breach_loclist = []\n",
    "\n",
    "for i in data['Location of Breached Information'].unique():\n",
    "    breach_loca = (str(i).split(','))\n",
    "    breach_loclist.append(breach_loca)\n",
    "    \n",
    "final_loca = []\n",
    "for i in breach_loclist:\n",
    "    for j in i:\n",
    "        final_loca.append(j.strip())\n",
    "        \n",
    "final_loca = set(final_loca)\n",
    "final_loca"
   ]
  },
  {
   "cell_type": "markdown",
   "metadata": {
    "hidden": true
   },
   "source": [
    "**FOR \"['Desktop Computer']\" LOCATIOn**"
   ]
  },
  {
   "cell_type": "code",
   "execution_count": 13,
   "metadata": {
    "ExecuteTime": {
     "end_time": "2020-09-16T02:43:05.429430Z",
     "start_time": "2020-09-16T02:43:05.421408Z"
    },
    "hidden": true
   },
   "outputs": [],
   "source": [
    "# fetching all the composite unique types that contain \"THEFT\"\n",
    "loc_list = []\n",
    "for loca in data['Location of Breached Information'].unique():\n",
    "    if loca.find('Desktop Computer') != -1:\n",
    "        \n",
    "        loc_list.append(loca)\n",
    "        \n",
    "# fetching all the rows that contain \"Theft\" in their breach type\n",
    "# data['Desktop Computer'] = data[data['Location of Breached Information'].isin(loc_list)]\n",
    "\n",
    "data['Desktop Computer'] = np.where( data['Location of Breached Information'].isin(loc_list) , 1, 0)"
   ]
  },
  {
   "cell_type": "code",
   "execution_count": 15,
   "metadata": {
    "ExecuteTime": {
     "end_time": "2020-09-16T02:43:21.766265Z",
     "start_time": "2020-09-16T02:43:21.554610Z"
    },
    "hidden": true
   },
   "outputs": [
    {
     "data": {
      "text/plain": [
       "0    1452\n",
       "1     206\n",
       "Name: Desktop Computer, dtype: int64"
      ]
     },
     "execution_count": 15,
     "metadata": {},
     "output_type": "execute_result"
    }
   ],
   "source": [
    "data['Desktop Computer'].value_counts()"
   ]
  },
  {
   "cell_type": "markdown",
   "metadata": {
    "hidden": true
   },
   "source": [
    "**FOR \"Electronic Medical Record\"**"
   ]
  },
  {
   "cell_type": "code",
   "execution_count": 16,
   "metadata": {
    "ExecuteTime": {
     "end_time": "2020-09-16T02:46:15.227768Z",
     "start_time": "2020-09-16T02:46:15.214762Z"
    },
    "hidden": true
   },
   "outputs": [
    {
     "data": {
      "text/plain": [
       "0    1555\n",
       "1     103\n",
       "Name: Electronic Medical Record, dtype: int64"
      ]
     },
     "execution_count": 16,
     "metadata": {},
     "output_type": "execute_result"
    }
   ],
   "source": [
    "# fetching all the composite unique types that contain \"THEFT\"\n",
    "loc_list = []\n",
    "for loca in data['Location of Breached Information'].unique():\n",
    "    if loca.find('Electronic Medical Record') != -1:\n",
    "        \n",
    "        loc_list.append(loca)\n",
    "        \n",
    "# fetching all the rows that contain \"Theft\" in their breach type\n",
    "# data['Desktop Computer'] = data[data['Location of Breached Information'].isin(loc_list)]\n",
    "\n",
    "data['Electronic Medical Record'] = np.where( data['Location of Breached Information'].isin(loc_list) , 1, 0)\n",
    "data['Electronic Medical Record'].value_counts()"
   ]
  },
  {
   "cell_type": "code",
   "execution_count": 17,
   "metadata": {
    "ExecuteTime": {
     "end_time": "2020-09-16T03:05:08.591194Z",
     "start_time": "2020-09-16T03:05:08.588204Z"
    },
    "hidden": true
   },
   "outputs": [],
   "source": [
    "final_loca = list(final_loca)"
   ]
  },
  {
   "cell_type": "code",
   "execution_count": 18,
   "metadata": {
    "ExecuteTime": {
     "end_time": "2020-09-16T03:05:33.509333Z",
     "start_time": "2020-09-16T03:05:33.427511Z"
    },
    "hidden": true,
    "scrolled": true
   },
   "outputs": [
    {
     "name": "stdout",
     "output_type": "stream",
     "text": [
      "FOR  Electronic Medical Record\n",
      "0    1555\n",
      "1     103\n",
      "Name: Electronic Medical Record, dtype: int64\n",
      "False\n",
      "FOR  Desktop Computer\n",
      "0    1452\n",
      "1     206\n",
      "Name: Desktop Computer, dtype: int64\n",
      "False\n",
      "FOR  Other\n",
      "0    1290\n",
      "1     368\n",
      "Name: Other, dtype: int64\n",
      "False\n",
      "FOR  Paper/Films\n",
      "0    1235\n",
      "1     423\n",
      "Name: Paper/Films, dtype: int64\n",
      "False\n",
      "FOR  Laptop\n",
      "0    1307\n",
      "1     351\n",
      "Name: Laptop, dtype: int64\n",
      "False\n",
      "FOR  Email\n",
      "0    1501\n",
      "1     157\n",
      "Name: Email, dtype: int64\n",
      "False\n",
      "FOR  Network Server\n",
      "0    1382\n",
      "1     276\n",
      "Name: Network Server, dtype: int64\n",
      "False\n",
      "FOR  Other Portable Electronic Device\n",
      "0    1475\n",
      "1     183\n",
      "Name: Other Portable Electronic Device, dtype: int64\n",
      "False\n"
     ]
    }
   ],
   "source": [
    "for location in final_loca:\n",
    "    print(\"FOR \", location)\n",
    "    # fetching all the composite unique types that contain \"THEFT\"\n",
    "    loc_list = []\n",
    "    for loca in data['Location of Breached Information'].unique():\n",
    "        if loca.find(location) != -1:\n",
    "\n",
    "            loc_list.append(loca)\n",
    "\n",
    "    # fetching all the rows that contain \"Theft\" in their breach type\n",
    "    # data['Desktop Computer'] = data[data['Location of Breached Information'].isin(loc_list)]\n",
    "\n",
    "    data[location] = np.where( data['Location of Breached Information'].isin(loc_list) , 1, 0)\n",
    "    print(data[location].value_counts())\n",
    "    print(data[location].isnull().any())"
   ]
  },
  {
   "cell_type": "code",
   "execution_count": 19,
   "metadata": {
    "ExecuteTime": {
     "end_time": "2020-09-16T03:05:52.839225Z",
     "start_time": "2020-09-16T03:05:52.755005Z"
    },
    "hidden": true
   },
   "outputs": [
    {
     "data": {
      "text/html": [
       "<div>\n",
       "<style scoped>\n",
       "    .dataframe tbody tr th:only-of-type {\n",
       "        vertical-align: middle;\n",
       "    }\n",
       "\n",
       "    .dataframe tbody tr th {\n",
       "        vertical-align: top;\n",
       "    }\n",
       "\n",
       "    .dataframe thead th {\n",
       "        text-align: right;\n",
       "    }\n",
       "</style>\n",
       "<table border=\"1\" class=\"dataframe\">\n",
       "  <thead>\n",
       "    <tr style=\"text-align: right;\">\n",
       "      <th></th>\n",
       "      <th>Electronic Medical Record</th>\n",
       "      <th>Desktop Computer</th>\n",
       "      <th>Other</th>\n",
       "      <th>Paper/Films</th>\n",
       "      <th>Laptop</th>\n",
       "      <th>Email</th>\n",
       "      <th>Network Server</th>\n",
       "      <th>Other Portable Electronic Device</th>\n",
       "    </tr>\n",
       "  </thead>\n",
       "  <tbody>\n",
       "    <tr>\n",
       "      <th>0</th>\n",
       "      <td>0</td>\n",
       "      <td>0</td>\n",
       "      <td>1</td>\n",
       "      <td>0</td>\n",
       "      <td>0</td>\n",
       "      <td>0</td>\n",
       "      <td>0</td>\n",
       "      <td>0</td>\n",
       "    </tr>\n",
       "    <tr>\n",
       "      <th>1</th>\n",
       "      <td>0</td>\n",
       "      <td>0</td>\n",
       "      <td>1</td>\n",
       "      <td>0</td>\n",
       "      <td>0</td>\n",
       "      <td>0</td>\n",
       "      <td>0</td>\n",
       "      <td>0</td>\n",
       "    </tr>\n",
       "    <tr>\n",
       "      <th>2</th>\n",
       "      <td>0</td>\n",
       "      <td>0</td>\n",
       "      <td>1</td>\n",
       "      <td>0</td>\n",
       "      <td>0</td>\n",
       "      <td>0</td>\n",
       "      <td>0</td>\n",
       "      <td>0</td>\n",
       "    </tr>\n",
       "    <tr>\n",
       "      <th>3</th>\n",
       "      <td>0</td>\n",
       "      <td>0</td>\n",
       "      <td>1</td>\n",
       "      <td>0</td>\n",
       "      <td>0</td>\n",
       "      <td>0</td>\n",
       "      <td>0</td>\n",
       "      <td>0</td>\n",
       "    </tr>\n",
       "    <tr>\n",
       "      <th>4</th>\n",
       "      <td>0</td>\n",
       "      <td>0</td>\n",
       "      <td>1</td>\n",
       "      <td>0</td>\n",
       "      <td>0</td>\n",
       "      <td>0</td>\n",
       "      <td>0</td>\n",
       "      <td>0</td>\n",
       "    </tr>\n",
       "    <tr>\n",
       "      <th>...</th>\n",
       "      <td>...</td>\n",
       "      <td>...</td>\n",
       "      <td>...</td>\n",
       "      <td>...</td>\n",
       "      <td>...</td>\n",
       "      <td>...</td>\n",
       "      <td>...</td>\n",
       "      <td>...</td>\n",
       "    </tr>\n",
       "    <tr>\n",
       "      <th>1653</th>\n",
       "      <td>0</td>\n",
       "      <td>0</td>\n",
       "      <td>0</td>\n",
       "      <td>0</td>\n",
       "      <td>0</td>\n",
       "      <td>1</td>\n",
       "      <td>0</td>\n",
       "      <td>0</td>\n",
       "    </tr>\n",
       "    <tr>\n",
       "      <th>1654</th>\n",
       "      <td>1</td>\n",
       "      <td>0</td>\n",
       "      <td>0</td>\n",
       "      <td>0</td>\n",
       "      <td>0</td>\n",
       "      <td>0</td>\n",
       "      <td>0</td>\n",
       "      <td>0</td>\n",
       "    </tr>\n",
       "    <tr>\n",
       "      <th>1655</th>\n",
       "      <td>0</td>\n",
       "      <td>0</td>\n",
       "      <td>0</td>\n",
       "      <td>1</td>\n",
       "      <td>0</td>\n",
       "      <td>0</td>\n",
       "      <td>0</td>\n",
       "      <td>0</td>\n",
       "    </tr>\n",
       "    <tr>\n",
       "      <th>1656</th>\n",
       "      <td>0</td>\n",
       "      <td>0</td>\n",
       "      <td>0</td>\n",
       "      <td>0</td>\n",
       "      <td>0</td>\n",
       "      <td>0</td>\n",
       "      <td>1</td>\n",
       "      <td>0</td>\n",
       "    </tr>\n",
       "    <tr>\n",
       "      <th>1657</th>\n",
       "      <td>0</td>\n",
       "      <td>0</td>\n",
       "      <td>0</td>\n",
       "      <td>0</td>\n",
       "      <td>0</td>\n",
       "      <td>1</td>\n",
       "      <td>0</td>\n",
       "      <td>0</td>\n",
       "    </tr>\n",
       "  </tbody>\n",
       "</table>\n",
       "<p>1658 rows × 8 columns</p>\n",
       "</div>"
      ],
      "text/plain": [
       "      Electronic Medical Record  Desktop Computer  Other  Paper/Films  Laptop  \\\n",
       "0                             0                 0      1            0       0   \n",
       "1                             0                 0      1            0       0   \n",
       "2                             0                 0      1            0       0   \n",
       "3                             0                 0      1            0       0   \n",
       "4                             0                 0      1            0       0   \n",
       "...                         ...               ...    ...          ...     ...   \n",
       "1653                          0                 0      0            0       0   \n",
       "1654                          1                 0      0            0       0   \n",
       "1655                          0                 0      0            1       0   \n",
       "1656                          0                 0      0            0       0   \n",
       "1657                          0                 0      0            0       0   \n",
       "\n",
       "      Email  Network Server  Other Portable Electronic Device  \n",
       "0         0               0                                 0  \n",
       "1         0               0                                 0  \n",
       "2         0               0                                 0  \n",
       "3         0               0                                 0  \n",
       "4         0               0                                 0  \n",
       "...     ...             ...                               ...  \n",
       "1653      1               0                                 0  \n",
       "1654      0               0                                 0  \n",
       "1655      0               0                                 0  \n",
       "1656      0               1                                 0  \n",
       "1657      1               0                                 0  \n",
       "\n",
       "[1658 rows x 8 columns]"
      ]
     },
     "execution_count": 19,
     "metadata": {},
     "output_type": "execute_result"
    }
   ],
   "source": [
    "data[final_loca]"
   ]
  },
  {
   "cell_type": "markdown",
   "metadata": {
    "heading_collapsed": true
   },
   "source": [
    "### For ONE HOT Encoding of Breach Types"
   ]
  },
  {
   "cell_type": "code",
   "execution_count": 21,
   "metadata": {
    "ExecuteTime": {
     "end_time": "2020-09-16T07:37:09.169466Z",
     "start_time": "2020-09-16T07:37:08.251554Z"
    },
    "hidden": true
   },
   "outputs": [],
   "source": [
    "types_breach = []\n",
    "\n",
    "for i in data['Type of Breach'].unique():\n",
    "    breach_type = (str(i).split(','))\n",
    "    types_breach.append(breach_type)\n",
    "    \n",
    "final_types = []\n",
    "for i in types_breach:\n",
    "    for j in i:\n",
    "        final_types.append(j.strip())\n",
    "        \n",
    "final_types = set(final_types)\n",
    "final_breach_types = list(final_types)"
   ]
  },
  {
   "cell_type": "code",
   "execution_count": 23,
   "metadata": {
    "ExecuteTime": {
     "end_time": "2020-09-16T07:47:56.936596Z",
     "start_time": "2020-09-16T07:47:56.194094Z"
    },
    "hidden": true
   },
   "outputs": [
    {
     "name": "stdout",
     "output_type": "stream",
     "text": [
      "FOR  Other\n",
      "0    1561\n",
      "1      97\n",
      "Name: Other, dtype: int64\n",
      "False\n",
      "FOR  Hacking/IT Incident\n",
      "0    1427\n",
      "1     231\n",
      "Name: Hacking/IT Incident, dtype: int64\n",
      "False\n",
      "FOR  Loss\n",
      "0    1510\n",
      "1     148\n",
      "Name: Loss, dtype: int64\n",
      "False\n",
      "FOR  Improper Disposal\n",
      "0    1598\n",
      "1      60\n",
      "Name: Improper Disposal, dtype: int64\n",
      "False\n",
      "FOR  Unauthorized Access/Disclosure\n",
      "0    1223\n",
      "1     435\n",
      "Name: Unauthorized Access/Disclosure, dtype: int64\n",
      "False\n",
      "FOR  Theft\n",
      "0    889\n",
      "1    769\n",
      "Name: Theft, dtype: int64\n",
      "False\n",
      "FOR  Unknown\n",
      "0    1645\n",
      "1      13\n",
      "Name: Unknown, dtype: int64\n",
      "False\n"
     ]
    }
   ],
   "source": [
    "for location in final_breach_types:\n",
    "    print(\"FOR \", location)\n",
    "    # fetching all the composite unique types that contain \"THEFT\"\n",
    "    loc_list = []\n",
    "    for loca in data['Type of Breach'].unique():\n",
    "        if loca.find(location) != -1:\n",
    "\n",
    "            loc_list.append(loca)\n",
    "\n",
    "    # fetching all the rows that contain \"Theft\" in their breach type\n",
    "    # data['Desktop Computer'] = data[data['Location of Breached Information'].isin(loc_list)]\n",
    "\n",
    "    data[location] = np.where( data['Type of Breach'].isin(loc_list) , 1, 0)\n",
    "    print(data[location].value_counts())\n",
    "    print(data[location].isnull().any())"
   ]
  },
  {
   "cell_type": "code",
   "execution_count": 24,
   "metadata": {
    "ExecuteTime": {
     "end_time": "2020-09-16T07:48:13.796293Z",
     "start_time": "2020-09-16T07:48:13.410631Z"
    },
    "hidden": true
   },
   "outputs": [
    {
     "data": {
      "text/plain": [
       "Index(['Name of Covered Entity', 'State', 'Covered Entity Type',\n",
       "       'Breach Submission Date', 'Type of Breach',\n",
       "       'Location of Breached Information', 'Business Associate Present',\n",
       "       'Web Description', '2009', '2010', '2011', '2012', '2013', '2014',\n",
       "       '2015', '2016', 'Individuals_Affected', 'YEAR', 'Desktop Computer',\n",
       "       'Electronic Medical Record', 'Other', 'Paper/Films', 'Laptop', 'Email',\n",
       "       'Network Server', 'Other Portable Electronic Device',\n",
       "       'Hacking/IT Incident', 'Loss', 'Improper Disposal',\n",
       "       'Unauthorized Access/Disclosure', 'Theft', 'Unknown'],\n",
       "      dtype='object')"
      ]
     },
     "execution_count": 24,
     "metadata": {},
     "output_type": "execute_result"
    }
   ],
   "source": [
    "data.columns"
   ]
  },
  {
   "cell_type": "markdown",
   "metadata": {},
   "source": [
    "### For One HOT Encoding Covered entity types"
   ]
  },
  {
   "cell_type": "code",
   "execution_count": 25,
   "metadata": {
    "ExecuteTime": {
     "end_time": "2020-09-16T07:51:03.167850Z",
     "start_time": "2020-09-16T07:51:03.132906Z"
    }
   },
   "outputs": [],
   "source": [
    "types_breach = []\n",
    "\n",
    "for i in data['Covered Entity Type'].unique():\n",
    "    breach_type = (str(i).split(','))\n",
    "    types_breach.append(breach_type)\n",
    "    \n",
    "final_types = []\n",
    "for i in types_breach:\n",
    "    for j in i:\n",
    "        final_types.append(j.strip())\n",
    "        \n",
    "final_types = set(final_types)\n",
    "final_breach_types = list(final_types)"
   ]
  },
  {
   "cell_type": "code",
   "execution_count": 26,
   "metadata": {
    "ExecuteTime": {
     "end_time": "2020-09-16T07:51:28.584646Z",
     "start_time": "2020-09-16T07:51:28.477117Z"
    }
   },
   "outputs": [
    {
     "name": "stdout",
     "output_type": "stream",
     "text": [
      "FOR  Healthcare Clearing House\n",
      "0    1654\n",
      "1       4\n",
      "Name: Healthcare Clearing House, dtype: int64\n",
      "False\n",
      "FOR  Business Associate\n",
      "0    1384\n",
      "1     274\n",
      "Name: Business Associate, dtype: int64\n",
      "False\n",
      "FOR  Health Plan\n",
      "0    1451\n",
      "1     207\n",
      "Name: Health Plan, dtype: int64\n",
      "False\n",
      "FOR  Healthcare Provider\n",
      "1    1173\n",
      "0     485\n",
      "Name: Healthcare Provider, dtype: int64\n",
      "False\n"
     ]
    }
   ],
   "source": [
    "for location in final_breach_types:\n",
    "    print(\"FOR \", location)\n",
    "    # fetching all the composite unique types that contain \"THEFT\"\n",
    "    loc_list = []\n",
    "    for loca in data['Covered Entity Type'].unique():\n",
    "        if loca.find(location) != -1:\n",
    "\n",
    "            loc_list.append(loca)\n",
    "\n",
    "    # fetching all the rows that contain \"Theft\" in their breach type\n",
    "    # data['Desktop Computer'] = data[data['Location of Breached Information'].isin(loc_list)]\n",
    "\n",
    "    data[location] = np.where( data['Covered Entity Type'].isin(loc_list) , 1, 0)\n",
    "    print(data[location].value_counts())\n",
    "    print(data[location].isnull().any())"
   ]
  },
  {
   "cell_type": "markdown",
   "metadata": {},
   "source": [
    "### For final Data Checking"
   ]
  },
  {
   "cell_type": "code",
   "execution_count": 27,
   "metadata": {
    "ExecuteTime": {
     "end_time": "2020-09-16T07:52:39.433081Z",
     "start_time": "2020-09-16T07:52:39.390195Z"
    }
   },
   "outputs": [
    {
     "data": {
      "text/plain": [
       "Index(['Name of Covered Entity', 'State', 'Covered Entity Type',\n",
       "       'Breach Submission Date', 'Type of Breach',\n",
       "       'Location of Breached Information', 'Business Associate Present',\n",
       "       'Web Description', '2009', '2010', '2011', '2012', '2013', '2014',\n",
       "       '2015', '2016', 'Individuals_Affected', 'YEAR', 'Desktop Computer',\n",
       "       'Electronic Medical Record', 'Other', 'Paper/Films', 'Laptop', 'Email',\n",
       "       'Network Server', 'Other Portable Electronic Device',\n",
       "       'Hacking/IT Incident', 'Loss', 'Improper Disposal',\n",
       "       'Unauthorized Access/Disclosure', 'Theft', 'Unknown',\n",
       "       'Healthcare Clearing House', 'Business Associate', 'Health Plan',\n",
       "       'Healthcare Provider'],\n",
       "      dtype='object')"
      ]
     },
     "execution_count": 27,
     "metadata": {},
     "output_type": "execute_result"
    }
   ],
   "source": [
    "data.columns"
   ]
  },
  {
   "cell_type": "code",
   "execution_count": 28,
   "metadata": {
    "ExecuteTime": {
     "end_time": "2020-09-16T07:52:47.653173Z",
     "start_time": "2020-09-16T07:52:47.647150Z"
    }
   },
   "outputs": [
    {
     "data": {
      "text/plain": [
       "36"
      ]
     },
     "execution_count": 28,
     "metadata": {},
     "output_type": "execute_result"
    }
   ],
   "source": [
    "len(data.columns)"
   ]
  },
  {
   "cell_type": "code",
   "execution_count": 29,
   "metadata": {
    "ExecuteTime": {
     "end_time": "2020-09-16T08:04:50.403621Z",
     "start_time": "2020-09-16T08:04:50.165542Z"
    }
   },
   "outputs": [
    {
     "data": {
      "text/plain": [
       "No     1378\n",
       "Yes     280\n",
       "Name: Business Associate Present, dtype: int64"
      ]
     },
     "execution_count": 29,
     "metadata": {},
     "output_type": "execute_result"
    }
   ],
   "source": [
    "data['Business Associate Present'].value_counts()"
   ]
  },
  {
   "cell_type": "code",
   "execution_count": 33,
   "metadata": {
    "ExecuteTime": {
     "end_time": "2020-09-16T08:09:55.560743Z",
     "start_time": "2020-09-16T08:09:55.556756Z"
    }
   },
   "outputs": [],
   "source": [
    "# Introducing the TARGET COLUMN\n",
    "data[\"target\"] = np.where( data['Business Associate Present'] == \"Yes\" , 1, 0)"
   ]
  },
  {
   "cell_type": "code",
   "execution_count": 34,
   "metadata": {
    "ExecuteTime": {
     "end_time": "2020-09-16T08:09:57.951526Z",
     "start_time": "2020-09-16T08:09:57.945499Z"
    }
   },
   "outputs": [
    {
     "data": {
      "text/plain": [
       "0    1378\n",
       "1     280\n",
       "Name: target, dtype: int64"
      ]
     },
     "execution_count": 34,
     "metadata": {},
     "output_type": "execute_result"
    }
   ],
   "source": [
    "data[\"target\"].value_counts()"
   ]
  },
  {
   "cell_type": "markdown",
   "metadata": {},
   "source": [
    "**HENCE -> HIGHLY IMBALANCED**"
   ]
  },
  {
   "cell_type": "code",
   "execution_count": 35,
   "metadata": {
    "ExecuteTime": {
     "end_time": "2020-09-16T08:15:42.325663Z",
     "start_time": "2020-09-16T08:15:42.320641Z"
    }
   },
   "outputs": [
    {
     "data": {
      "text/plain": [
       "37"
      ]
     },
     "execution_count": 35,
     "metadata": {},
     "output_type": "execute_result"
    }
   ],
   "source": [
    "len(data.columns)"
   ]
  },
  {
   "cell_type": "code",
   "execution_count": 36,
   "metadata": {
    "ExecuteTime": {
     "end_time": "2020-09-16T08:17:44.028559Z",
     "start_time": "2020-09-16T08:17:41.279033Z"
    }
   },
   "outputs": [],
   "source": [
    "data.to_csv(\"Data_V5.csv\")"
   ]
  },
  {
   "cell_type": "markdown",
   "metadata": {},
   "source": [
    "### Working on \"Web Description\""
   ]
  },
  {
   "cell_type": "code",
   "execution_count": 38,
   "metadata": {
    "ExecuteTime": {
     "end_time": "2020-09-16T08:25:55.512651Z",
     "start_time": "2020-09-16T08:25:55.479742Z"
    }
   },
   "outputs": [],
   "source": [
    "desc_list = data['Web Description'].unique()"
   ]
  },
  {
   "cell_type": "code",
   "execution_count": 39,
   "metadata": {
    "ExecuteTime": {
     "end_time": "2020-09-16T08:26:01.448409Z",
     "start_time": "2020-09-16T08:26:01.444421Z"
    }
   },
   "outputs": [
    {
     "data": {
      "text/plain": [
       "667"
      ]
     },
     "execution_count": 39,
     "metadata": {},
     "output_type": "execute_result"
    }
   ],
   "source": [
    "len(desc_list)"
   ]
  },
  {
   "cell_type": "code",
   "execution_count": 41,
   "metadata": {
    "ExecuteTime": {
     "end_time": "2020-09-16T08:29:13.993489Z",
     "start_time": "2020-09-16T08:29:13.989500Z"
    }
   },
   "outputs": [],
   "source": [
    "desclen_list = [] # list to store the length of web description\n",
    "for desc in desc_list:\n",
    "    desclen_list.append(len(str(desc)))"
   ]
  },
  {
   "cell_type": "code",
   "execution_count": 44,
   "metadata": {
    "ExecuteTime": {
     "end_time": "2020-09-16T08:29:58.830178Z",
     "start_time": "2020-09-16T08:29:57.876605Z"
    }
   },
   "outputs": [
    {
     "data": {
      "text/html": [
       "<div>\n",
       "<style scoped>\n",
       "    .dataframe tbody tr th:only-of-type {\n",
       "        vertical-align: middle;\n",
       "    }\n",
       "\n",
       "    .dataframe tbody tr th {\n",
       "        vertical-align: top;\n",
       "    }\n",
       "\n",
       "    .dataframe thead th {\n",
       "        text-align: right;\n",
       "    }\n",
       "</style>\n",
       "<table border=\"1\" class=\"dataframe\">\n",
       "  <thead>\n",
       "    <tr style=\"text-align: right;\">\n",
       "      <th></th>\n",
       "      <th>0</th>\n",
       "    </tr>\n",
       "  </thead>\n",
       "  <tbody>\n",
       "    <tr>\n",
       "      <th>count</th>\n",
       "      <td>667.000000</td>\n",
       "    </tr>\n",
       "    <tr>\n",
       "      <th>mean</th>\n",
       "      <td>916.566717</td>\n",
       "    </tr>\n",
       "    <tr>\n",
       "      <th>std</th>\n",
       "      <td>418.815077</td>\n",
       "    </tr>\n",
       "    <tr>\n",
       "      <th>min</th>\n",
       "      <td>2.000000</td>\n",
       "    </tr>\n",
       "    <tr>\n",
       "      <th>25%</th>\n",
       "      <td>700.000000</td>\n",
       "    </tr>\n",
       "    <tr>\n",
       "      <th>50%</th>\n",
       "      <td>853.000000</td>\n",
       "    </tr>\n",
       "    <tr>\n",
       "      <th>75%</th>\n",
       "      <td>1068.500000</td>\n",
       "    </tr>\n",
       "    <tr>\n",
       "      <th>max</th>\n",
       "      <td>3799.000000</td>\n",
       "    </tr>\n",
       "  </tbody>\n",
       "</table>\n",
       "</div>"
      ],
      "text/plain": [
       "                 0\n",
       "count   667.000000\n",
       "mean    916.566717\n",
       "std     418.815077\n",
       "min       2.000000\n",
       "25%     700.000000\n",
       "50%     853.000000\n",
       "75%    1068.500000\n",
       "max    3799.000000"
      ]
     },
     "execution_count": 44,
     "metadata": {},
     "output_type": "execute_result"
    }
   ],
   "source": [
    "pd.DataFrame(desclen_list).describe()"
   ]
  },
  {
   "cell_type": "code",
   "execution_count": 49,
   "metadata": {
    "ExecuteTime": {
     "end_time": "2020-09-16T08:33:25.875913Z",
     "start_time": "2020-09-16T08:33:25.729304Z"
    },
    "scrolled": true
   },
   "outputs": [
    {
     "data": {
      "text/plain": [
       "{'whiskers': [<matplotlib.lines.Line2D at 0x1fa6ba302c8>,\n",
       "  <matplotlib.lines.Line2D at 0x1fa6babd748>],\n",
       " 'caps': [<matplotlib.lines.Line2D at 0x1fa6ba66a48>,\n",
       "  <matplotlib.lines.Line2D at 0x1fa6ba663c8>],\n",
       " 'boxes': [<matplotlib.lines.Line2D at 0x1fa6bbd5ac8>],\n",
       " 'medians': [<matplotlib.lines.Line2D at 0x1fa6badbd88>],\n",
       " 'fliers': [<matplotlib.lines.Line2D at 0x1fa6bade488>],\n",
       " 'means': []}"
      ]
     },
     "execution_count": 49,
     "metadata": {},
     "output_type": "execute_result"
    },
    {
     "data": {
      "image/png": "[encoded data removed]",
      "text/plain": [
       "<Figure size 1080x1080 with 1 Axes>"
      ]
     },
     "metadata": {
      "needs_background": "light"
     },
     "output_type": "display_data"
    }
   ],
   "source": [
    "plt.figure(figsize = (15,15))\n",
    "plt.boxplot(pd.Series(desclen_list))"
   ]
  },
  {
   "cell_type": "markdown",
   "metadata": {},
   "source": [
    "**Hence, WE CAN DELETE THE REVIEWS WITH SIZE <100 TO REMOVE ANY NOISY DATA**"
   ]
  },
  {
   "cell_type": "code",
   "execution_count": 58,
   "metadata": {
    "ExecuteTime": {
     "end_time": "2020-09-16T08:39:47.095279Z",
     "start_time": "2020-09-16T08:39:47.091251Z"
    }
   },
   "outputs": [],
   "source": [
    "desc_df = pd.DataFrame({\"Desc\": desc_list, \"Desc_len\": desclen_list})"
   ]
  },
  {
   "cell_type": "code",
   "execution_count": 59,
   "metadata": {
    "ExecuteTime": {
     "end_time": "2020-09-16T08:39:47.804328Z",
     "start_time": "2020-09-16T08:39:47.793358Z"
    }
   },
   "outputs": [
    {
     "data": {
      "text/html": [
       "<div>\n",
       "<style scoped>\n",
       "    .dataframe tbody tr th:only-of-type {\n",
       "        vertical-align: middle;\n",
       "    }\n",
       "\n",
       "    .dataframe tbody tr th {\n",
       "        vertical-align: top;\n",
       "    }\n",
       "\n",
       "    .dataframe thead th {\n",
       "        text-align: right;\n",
       "    }\n",
       "</style>\n",
       "<table border=\"1\" class=\"dataframe\">\n",
       "  <thead>\n",
       "    <tr style=\"text-align: right;\">\n",
       "      <th></th>\n",
       "      <th>Desc</th>\n",
       "      <th>Desc_len</th>\n",
       "    </tr>\n",
       "  </thead>\n",
       "  <tbody>\n",
       "    <tr>\n",
       "      <th>0</th>\n",
       "      <td>NaN</td>\n",
       "      <td>3</td>\n",
       "    </tr>\n",
       "    <tr>\n",
       "      <th>1</th>\n",
       "      <td>\\N</td>\n",
       "      <td>2</td>\n",
       "    </tr>\n",
       "    <tr>\n",
       "      <th>2</th>\n",
       "      <td>Computer servers of Goshen Health System's bus...</td>\n",
       "      <td>1385</td>\n",
       "    </tr>\n",
       "    <tr>\n",
       "      <th>3</th>\n",
       "      <td>On December 13, 2014, the covered entity (CE),...</td>\n",
       "      <td>721</td>\n",
       "    </tr>\n",
       "    <tr>\n",
       "      <th>4</th>\n",
       "      <td>On December 30, 2014, the covered entity (CE),...</td>\n",
       "      <td>896</td>\n",
       "    </tr>\n",
       "    <tr>\n",
       "      <th>...</th>\n",
       "      <td>...</td>\n",
       "      <td>...</td>\n",
       "    </tr>\n",
       "    <tr>\n",
       "      <th>662</th>\n",
       "      <td>On July 7, 2014, Memorial Hermann Health Syste...</td>\n",
       "      <td>692</td>\n",
       "    </tr>\n",
       "    <tr>\n",
       "      <th>663</th>\n",
       "      <td>The covered entity (CE) reported unauthorized ...</td>\n",
       "      <td>509</td>\n",
       "    </tr>\n",
       "    <tr>\n",
       "      <th>664</th>\n",
       "      <td>A newly hired employee impermissibly took pati...</td>\n",
       "      <td>524</td>\n",
       "    </tr>\n",
       "    <tr>\n",
       "      <th>665</th>\n",
       "      <td>The covered entity (CE) misplaced a binder con...</td>\n",
       "      <td>597</td>\n",
       "    </tr>\n",
       "    <tr>\n",
       "      <th>666</th>\n",
       "      <td>The IT department turned on the switch to a BA...</td>\n",
       "      <td>586</td>\n",
       "    </tr>\n",
       "  </tbody>\n",
       "</table>\n",
       "<p>667 rows × 2 columns</p>\n",
       "</div>"
      ],
      "text/plain": [
       "                                                  Desc  Desc_len\n",
       "0                                                  NaN         3\n",
       "1                                                   \\N         2\n",
       "2    Computer servers of Goshen Health System's bus...      1385\n",
       "3    On December 13, 2014, the covered entity (CE),...       721\n",
       "4    On December 30, 2014, the covered entity (CE),...       896\n",
       "..                                                 ...       ...\n",
       "662  On July 7, 2014, Memorial Hermann Health Syste...       692\n",
       "663  The covered entity (CE) reported unauthorized ...       509\n",
       "664  A newly hired employee impermissibly took pati...       524\n",
       "665  The covered entity (CE) misplaced a binder con...       597\n",
       "666  The IT department turned on the switch to a BA...       586\n",
       "\n",
       "[667 rows x 2 columns]"
      ]
     },
     "execution_count": 59,
     "metadata": {},
     "output_type": "execute_result"
    }
   ],
   "source": [
    "desc_df"
   ]
  },
  {
   "cell_type": "code",
   "execution_count": 60,
   "metadata": {
    "ExecuteTime": {
     "end_time": "2020-09-16T08:39:53.190034Z",
     "start_time": "2020-09-16T08:39:53.185042Z"
    }
   },
   "outputs": [],
   "source": [
    "desc_df['Desc'] = np.where( desc_df['Desc_len'] < 50 , np.nan, desc_df['Desc'])"
   ]
  },
  {
   "cell_type": "code",
   "execution_count": 62,
   "metadata": {
    "ExecuteTime": {
     "end_time": "2020-09-16T08:40:25.187685Z",
     "start_time": "2020-09-16T08:40:25.180662Z"
    }
   },
   "outputs": [
    {
     "name": "stdout",
     "output_type": "stream",
     "text": [
      "<class 'pandas.core.frame.DataFrame'>\n",
      "RangeIndex: 667 entries, 0 to 666\n",
      "Data columns (total 2 columns):\n",
      " #   Column    Non-Null Count  Dtype \n",
      "---  ------    --------------  ----- \n",
      " 0   Desc      664 non-null    object\n",
      " 1   Desc_len  667 non-null    int64 \n",
      "dtypes: int64(1), object(1)\n",
      "memory usage: 10.5+ KB\n"
     ]
    }
   ],
   "source": [
    "desc_df.info()"
   ]
  },
  {
   "cell_type": "code",
   "execution_count": 63,
   "metadata": {
    "ExecuteTime": {
     "end_time": "2020-09-16T08:40:39.346557Z",
     "start_time": "2020-09-16T08:40:39.309659Z"
    }
   },
   "outputs": [],
   "source": [
    "desc_df.dropna(inplace = True)"
   ]
  },
  {
   "cell_type": "code",
   "execution_count": 64,
   "metadata": {
    "ExecuteTime": {
     "end_time": "2020-09-16T08:40:44.759232Z",
     "start_time": "2020-09-16T08:40:44.753249Z"
    }
   },
   "outputs": [
    {
     "data": {
      "text/plain": [
       "(664, 2)"
      ]
     },
     "execution_count": 64,
     "metadata": {},
     "output_type": "execute_result"
    }
   ],
   "source": [
    "desc_df.shape"
   ]
  },
  {
   "cell_type": "code",
   "execution_count": 70,
   "metadata": {
    "ExecuteTime": {
     "end_time": "2020-09-16T11:16:12.475640Z",
     "start_time": "2020-09-16T11:16:12.392862Z"
    }
   },
   "outputs": [],
   "source": [
    "word_list = []\n",
    "\n",
    "for desc in desc_df[\"Desc\"]:\n",
    "    words = desc.split(\" \")\n",
    "    for word in words:\n",
    "        word_list.append(word.strip())\n",
    "        \n",
    "word_list = list(set(word_list))"
   ]
  },
  {
   "cell_type": "code",
   "execution_count": 72,
   "metadata": {
    "ExecuteTime": {
     "end_time": "2020-09-16T11:16:44.836146Z",
     "start_time": "2020-09-16T11:16:44.831162Z"
    }
   },
   "outputs": [
    {
     "data": {
      "text/plain": [
       "7114"
      ]
     },
     "execution_count": 72,
     "metadata": {},
     "output_type": "execute_result"
    }
   ],
   "source": [
    "len(word_list)"
   ]
  },
  {
   "cell_type": "markdown",
   "metadata": {},
   "source": [
    "**Involving NLP concepts will take time :**\n",
    "* Hence we will currently only utilise rest of the features."
   ]
  }
 ],
 "metadata": {
  "kernelspec": {
   "display_name": "Python 3",
   "language": "python",
   "name": "python3"
  },
  "language_info": {
   "codemirror_mode": {
    "name": "ipython",
    "version": 3
   },
   "file_extension": ".py",
   "mimetype": "text/x-python",
   "name": "python",
   "nbconvert_exporter": "python",
   "pygments_lexer": "ipython3",
   "version": "3.7.4"
  },
  "toc": {
   "base_numbering": 1,
   "nav_menu": {},
   "number_sections": true,
   "sideBar": true,
   "skip_h1_title": false,
   "title_cell": "Table of Contents",
   "title_sidebar": "Contents",
   "toc_cell": false,
   "toc_position": {},
   "toc_section_display": true,
   "toc_window_display": false
  }
 },
 "nbformat": 4,
 "nbformat_minor": 4
}
